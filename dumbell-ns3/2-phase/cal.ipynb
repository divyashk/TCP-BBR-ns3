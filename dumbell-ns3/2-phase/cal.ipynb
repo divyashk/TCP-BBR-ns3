{
 "cells": [
  {
   "cell_type": "code",
   "execution_count": 2,
   "metadata": {},
   "outputs": [],
   "source": [
    "from matplotlib import pyplot as plt"
   ]
  },
  {
   "cell_type": "code",
   "execution_count": 3,
   "metadata": {},
   "outputs": [],
   "source": [
    "# will return bandwidth in Bytes/sec.\n",
    "def convBandwidth(input):\n",
    "    if input[-4:] == \"Mbps\" : return ((10**6) * float(input[:-4]))/8\n",
    "    elif input[-4:] == \"MBps\" : return (10**6) * float(input[:-4])\n",
    "    elif input[-3:] == \"Bps\" : return float(input[:-3])\n",
    "    elif input[-3:] == \"bps\"    : return float(input[:-3])/8\n",
    "    else:\n",
    "        print(\"conversion not supported\")\n",
    "        return -1\n",
    "\n",
    "# will return time in sec.\n",
    "def convTime(input):\n",
    "    if input[-2:] == \"ms\" : return (10**(-3) * float(input[:-2]))\n",
    "    elif input[-1:] == \"s\" : return float(input[:-1])\n",
    "    elif input[-3:] == \"sec\" : return float(input[:-3])\n",
    "    else:\n",
    "        print(\"conversion not supported\")\n",
    "        return -1\n"
   ]
  },
  {
   "cell_type": "code",
   "execution_count": 7,
   "metadata": {},
   "outputs": [
    {
     "data": {
      "image/png": "[encoded data removed]",
      "text/plain": [
       "<Figure size 1800x432 with 1 Axes>"
      ]
     },
     "metadata": {
      "needs_background": "light"
     },
     "output_type": "display_data"
    }
   ],
   "source": [
    "# Discrete time interval \n",
    "deltaTime_str = \"1sec\"\n",
    "deltaTime = convTime(deltaTime_str)\n",
    "\n",
    "class queueObj:\n",
    "    maxSizeBytes = 0\n",
    "    currSizeBytes = 0.00000000001 \n",
    "    \n",
    "    # will get updated after constructor call\n",
    "    btlnkBandwidth = 1 \n",
    "    queueingDelay = currSizeBytes/btlnkBandwidth\n",
    "    \n",
    "    def __init__(self, maxSizeBytes, btlnkBandwidth):\n",
    "        self.maxSizeBytes = maxSizeBytes\n",
    "        self.btlnkBandwidth = btlnkBandwidth\n",
    "        \n",
    "            \n",
    "    def updateSize(cwndSizeBytes, RTT):\n",
    "        currSizeBytes = currSizeBytes + deltaTime*(cwndSizeBytes/RTT - btlnkBandwidth)\n",
    "        queueingDelay = currSizeBytes/btlnkBandwidth\n",
    "\n",
    "    \n",
    "# Ti : RTT min for a flow i \n",
    "# D : Queueing delay for all flows    \n",
    "def MIMD(qObj, Ti, D):\n",
    "    # if the queue is 1/3rd( subject to change) filled, then bandwidth is underestimated i.e. pacing controlled\n",
    "    if ( qObj.currSizeBytes < qObj.maxSizeBytes/3 ): return (1.25 * Ti)/(Ti + D)\n",
    "    # otherwise congestion window controlled\n",
    "    else: return (2 * Ti)/(Ti + D)\n",
    "    \n",
    "\n",
    "\n",
    "def Simul():\n",
    "    starttime = 0\n",
    "    endtime = 1000\n",
    "    \n",
    "    \n",
    "    pktsize = 1500\n",
    "    queueL = \"2084p\"\n",
    "    queueSizeBytes = pktsize*int(queueL[:-1])\n",
    "    \n",
    "    btlnkBandwidth_str = \"100Mbps\"\n",
    "    btlnkBandwidth = convBandwidth(btlnkBandwidth_str)\n",
    "    \n",
    "    # Creating a queue for the bottleneck link\n",
    "    qobj = queueObj(queueSizeBytes, btlnkBandwidth)\n",
    "    \n",
    "    # We will decide the RTT\n",
    "    RTT_str = \"100ms\"\n",
    "    RTT = convTime(RTT_str)\n",
    "        \n",
    "    cwndSize = 0.00000000001\n",
    "    \n",
    "    cwndSizeStore = {}\n",
    "    currtime = starttime\n",
    "    while currtime <= endtime:\n",
    "        \n",
    "        # simulation starts here\n",
    "        cwndSize = cwndSize * MIMD(qobj, RTT, qobj.queueingDelay)       \n",
    "        \n",
    "        # storing the number of packets( 1 pkt = 1500 By ) in the congestion window\n",
    "        cwndSizeStore[currtime] = cwndSize/1500\n",
    "        \n",
    "        currtime = currtime + deltaTime\n",
    "    \n",
    "        \n",
    "    f = plt.figure()\n",
    "    f.set_figwidth(25)\n",
    "    f.set_figheight(6)\n",
    "    \n",
    "    plt.plot(cwndSizeStore.keys(), cwndSizeStore.values())\n",
    "    plt.xlabel(\"time\")\n",
    "    plt.ylabel(\"cwnd\")\n",
    "    plt.title(f\"Congestion windows size vs time     RTT:{RTT_str}\")\n",
    "    \n",
    "    \n",
    "            \n",
    "Simul()\n",
    "\n",
    "    \n",
    "        "
   ]
  }
 ],
 "metadata": {
  "kernelspec": {
   "display_name": "Python 3",
   "language": "python",
   "name": "python3"
  },
  "language_info": {
   "codemirror_mode": {
    "name": "ipython",
    "version": 3
   },
   "file_extension": ".py",
   "mimetype": "text/x-python",
   "name": "python",
   "nbconvert_exporter": "python",
   "pygments_lexer": "ipython3",
   "version": "3.10.6"
  },
  "orig_nbformat": 4,
  "vscode": {
   "interpreter": {
    "hash": "916dbcbb3f70747c44a77c7bcd40155683ae19c65e1c03b4aa3499c5328201f1"
   }
  }
 },
 "nbformat": 4,
 "nbformat_minor": 2
}

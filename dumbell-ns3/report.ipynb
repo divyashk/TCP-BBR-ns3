{
 "cells": [
  {
   "cell_type": "code",
   "execution_count": 3,
   "metadata": {},
   "outputs": [],
   "source": [
    "from matplotlib import pyplot as plt\n",
    "\n",
    "plt.style.use('seaborn-whitegrid')\n",
    "plt.rcParams.update({'figure.max_open_warning': 0})\n",
    "\n",
    "import numpy as np\n",
    "import os\n",
    "\n",
    "import threading"
   ]
  },
  {
   "cell_type": "code",
   "execution_count": 4,
   "metadata": {},
   "outputs": [],
   "source": [
    "def plot_cwnd_vs_time():\n",
    "    \n",
    "    f = plt.figure()\n",
    "    f.set_figwidth(25)\n",
    "    f.set_figheight(6)\n",
    "    \n",
    "    cwndvstime = {}\n",
    "    \n",
    "    with open(\"./cwnd_trace_file.txt\", \"r\") as f:\n",
    "        lines = f.readlines()\n",
    "\n",
    "    for line in lines:\n",
    "        split_line = line.split()\n",
    "        cwndvstime[float(split_line[0])] = float(split_line[1]);\n",
    "\n",
    "        \n",
    "    plt.plot(cwndvstime.keys(), cwndvstime.values())\n",
    "    plt.xlabel(\"time\")\n",
    "    plt.ylabel(\"cwnd\")\n",
    "    plt.title(\"Congestion windows size vs time \")\n",
    "    f.close()\n",
    "    \n",
    "    \n",
    "    \n",
    "    "
   ]
  },
  {
   "cell_type": "code",
   "execution_count": 5,
   "metadata": {},
   "outputs": [],
   "source": [
    "def clean(flavor = \"default\" , \n",
    "          time = 200 , \n",
    "          queueL = 5, \n",
    "          noOfSource = 4, \n",
    "          total_input_bandwidth = 2, bottleneck_bandwidth = 1, RTT = 10, recvWindow = 50):\n",
    "    os.system(\"rm -rf {}_{}_{}\".format(flavor, noOfSource, RTT));"
   ]
  },
  {
   "cell_type": "code",
   "execution_count": 39,
   "metadata": {},
   "outputs": [],
   "source": [
    "def main(flavour = \"TcpBic\" , time = 200 ,access_bandwidth = 120, bottleneck_bandwidth = 100, bottleneck_delay = 1 , access_delay = 10, packetSize = 1458, queueL = 5, noOfSource = 2, packetPerSource = 10000000, sourceRate = 5):\n",
    "    \n",
    "    if os.path.exists(\"./cwnd_trace_file.txt\"):\n",
    "        os.system(\"rm ./cwnd_trace_file.txt\")\n",
    "        \n",
    "    cmd = f\"./waf --run \\\"scratch/tcp_n --nSources={noOfSource} --flavour={flavour} --bottleneckBandwidth={bottleneck_bandwidth}Mbps --bottleneckDelay={bottleneck_delay} --accessBandwidth={access_bandwidth}Mbps --accessDelay={access_delay} --queueSize={queueL} --pktSize={packetSize} --simDuration={time} --nPackets={packetPerSource} --sourceRate={sourceRate}\\\"\"\n",
    "    print(cmd)\n",
    "    os.system(cmd)\n",
    "    plot_cwnd_vs_time()\n",
    "    #clean(flavor = flavor, time = time, queueL = queueL, noOfSource = noOfSource, total_input_bandwidth = total_input_bandwidth, bottleneck_bandwidth= bottleneck_bandwidth, RTT = RTT, recvWindow = recvWindow)   \n"
   ]
  },
  {
   "cell_type": "code",
   "execution_count": 40,
   "metadata": {},
   "outputs": [
    {
     "name": "stdout",
     "output_type": "stream",
     "text": [
      "./waf --run \"scratch/tcp_n --nSources=1 --flavour=TcpBic --bottleneckBandwidth=10Mbps --bottleneckDelay=100us --accessBandwidth=100Mbps --accessDelay=100us --queueSize=2085p --pktSize=1500 --simDuration=100 --nPackets=30000000 --sourceRate=2\"\n",
      "Waf: Entering directory `/mnt/Store/Project-summer/ns-allinone-3.29/ns-3.29/build'\n",
      "[2570/2621] Compiling scratch/tcp_n.cc\n",
      "[2581/2621] Linking build/scratch/tcp_n\n",
      "Waf: Leaving directory `/mnt/Store/Project-summer/ns-allinone-3.29/ns-3.29/build'\n",
      "Build commands will be stored in build/compile_commands.json\n",
      "'build' finished successfully (9.686s)\n"
     ]
    },
    {
     "name": "stderr",
     "output_type": "stream",
     "text": [
      "AnimationInterface WARNING:Node:0 Does not have a mobility model. Use SetConstantPosition if it is stationary\n",
      "AnimationInterface WARNING:Node:1 Does not have a mobility model. Use SetConstantPosition if it is stationary\n",
      "AnimationInterface WARNING:Node:2 Does not have a mobility model. Use SetConstantPosition if it is stationary\n",
      "AnimationInterface WARNING:Node:3 Does not have a mobility model. Use SetConstantPosition if it is stationary\n",
      "AnimationInterface WARNING:Node:0 Does not have a mobility model. Use SetConstantPosition if it is stationary\n",
      "AnimationInterface WARNING:Node:1 Does not have a mobility model. Use SetConstantPosition if it is stationary\n",
      "AnimationInterface WARNING:Node:2 Does not have a mobility model. Use SetConstantPosition if it is stationary\n",
      "AnimationInterface WARNING:Node:3 Does not have a mobility model. Use SetConstantPosition if it is stationary\n"
     ]
    },
    {
     "data": {
      "image/png": "[encoded data removed]",
      "text/plain": [
       "<Figure size 1800x432 with 1 Axes>"
      ]
     },
     "metadata": {
      "needs_background": "light"
     },
     "output_type": "display_data"
    }
   ],
   "source": [
    "main(flavour = \"TcpBic\", \n",
    "     time = 100, \n",
    "     noOfSource=1, \n",
    "     access_bandwidth = 100, \n",
    "     access_delay = \"100us\",\n",
    "     bottleneck_bandwidth = 10, \n",
    "     bottleneck_delay = \"100us\", \n",
    "     packetSize = 1500, \n",
    "     queueL = \"2085p\", \n",
    "     packetPerSource = 30000000, \n",
    "     sourceRate=2)"
   ]
  },
  {
   "cell_type": "code",
   "execution_count": 8,
   "metadata": {},
   "outputs": [],
   "source": [
    "# # Running multiple simulations\n",
    "\n",
    "# RTTs = [10, 100, 200]\n",
    "# sources = [1, 40]\n",
    "\n",
    "# threads = []\n",
    "\n",
    "# for rtt in RTTs:\n",
    "#     for s in sources:\n",
    "#         threads.append(threading.Thread(target=main, args=(\"bbr\", 20, 2084, s, 120, 100, rtt, 10000)))\n",
    "        \n",
    "# for thread in threads:\n",
    "#     thread.start()\n",
    "\n",
    "# for thread in threads:\n",
    "#     thread.join()"
   ]
  },
  {
   "cell_type": "code",
   "execution_count": 9,
   "metadata": {},
   "outputs": [],
   "source": [
    "#main(flavor = \"bbr\", time = 20, queueL = 2084, noOfSource = 3, total_input_bandwidth = 120, bottleneck_bandwidth= 120, RTT = 10, recvWindow = 10000)"
   ]
  },
  {
   "cell_type": "markdown",
   "metadata": {},
   "source": []
  },
  {
   "cell_type": "code",
   "execution_count": null,
   "metadata": {},
   "outputs": [],
   "source": []
  }
 ],
 "metadata": {
  "kernelspec": {
   "display_name": "Python 3.9.7 64-bit",
   "language": "python",
   "name": "python3"
  },
  "language_info": {
   "codemirror_mode": {
    "name": "ipython",
    "version": 3
   },
   "file_extension": ".py",
   "mimetype": "text/x-python",
   "name": "python",
   "nbconvert_exporter": "python",
   "pygments_lexer": "ipython3",
   "version": "3.10.4"
  },
  "orig_nbformat": 4,
  "vscode": {
   "interpreter": {
    "hash": "916dbcbb3f70747c44a77c7bcd40155683ae19c65e1c03b4aa3499c5328201f1"
   }
  }
 },
 "nbformat": 4,
 "nbformat_minor": 2
}

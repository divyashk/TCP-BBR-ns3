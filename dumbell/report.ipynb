{
 "cells": [
  {
   "cell_type": "code",
   "execution_count": 12,
   "metadata": {},
   "outputs": [],
   "source": [
    "from matplotlib import pyplot as plt\n",
    "\n",
    "plt.style.use('seaborn-whitegrid')\n",
    "\n",
    "import numpy as np\n",
    "import os"
   ]
  },
  {
   "cell_type": "code",
   "execution_count": 83,
   "metadata": {},
   "outputs": [],
   "source": [
    "def plot_cwnd_vs_time(flavor = \"default\" , time = 5 , queueL = 5, noOfSource = 4, total_input_bandwidth = 2, bottleneck_bandwidth = 1, RTT = 10, recvWindow = 50):\n",
    "    flavor = flavor.capitalize()\n",
    "    \n",
    "    os.system(\"ns dumbell_tcp.tcl {0} {1} {2} {3} {4} {5} {6} {7}\".format(flavor, time, queueL, noOfSource, total_input_bandwidth, bottleneck_bandwidth, RTT, recvWindow))\n",
    "\n",
    "    \n",
    "    \n",
    "\n",
    "    for i in range(noOfSource):\n",
    "        \n",
    "        cwndvstime = {}\n",
    "        \n",
    "        with open(\"tcp_{0}_{1}\".format(flavor, i), \"r\") as f:\n",
    "            lines = f.readlines()\n",
    "\n",
    "        for line in lines:\n",
    "            split_line = line.split()\n",
    "            cwndvstime[float(split_line[0])] = float(split_line[1]);\n",
    "\n",
    "        \n",
    "        plt.plot(cwndvstime.keys(), cwndvstime.values() , label = \"{0}\".format(i))\n",
    "        plt.xlabel(\"time\")\n",
    "        plt.ylabel(\"cwnd\")\n",
    "        f.close()\n",
    "       \n",
    "        \n",
    "        "
   ]
  },
  {
   "cell_type": "code",
   "execution_count": 86,
   "metadata": {},
   "outputs": [
    {
     "data": {
      "image/png": "[encoded data removed]",
      "text/plain": [
       "<Figure size 432x288 with 1 Axes>"
      ]
     },
     "metadata": {},
     "output_type": "display_data"
    }
   ],
   "source": [
    "plot_cwnd_vs_time(flavor = \"tahoe\", time = 100, queueL = 2084, noOfSource = 1, total_input_bandwidth = 120, bottleneck_bandwidth= 100, RTT = 10, recvWindow = 1000)"
   ]
  },
  {
   "cell_type": "code",
   "execution_count": null,
   "metadata": {},
   "outputs": [],
   "source": [
    "\n",
    "\n"
   ]
  }
 ],
 "metadata": {
  "kernelspec": {
   "display_name": "Python 3.9.7 64-bit",
   "language": "python",
   "name": "python3"
  },
  "language_info": {
   "codemirror_mode": {
    "name": "ipython",
    "version": 3
   },
   "file_extension": ".py",
   "mimetype": "text/x-python",
   "name": "python",
   "nbconvert_exporter": "python",
   "pygments_lexer": "ipython3",
   "version": "3.10.4"
  },
  "orig_nbformat": 4,
  "vscode": {
   "interpreter": {
    "hash": "916dbcbb3f70747c44a77c7bcd40155683ae19c65e1c03b4aa3499c5328201f1"
   }
  }
 },
 "nbformat": 4,
 "nbformat_minor": 2
}
